{
  "nbformat": 4,
  "nbformat_minor": 0,
  "metadata": {
    "colab": {
      "provenance": [],
      "authorship_tag": "ABX9TyPej0bcWrrPrf6eM61WOGyN",
      "include_colab_link": true
    },
    "kernelspec": {
      "name": "python3",
      "display_name": "Python 3"
    },
    "language_info": {
      "name": "python"
    }
  },
  "cells": [
    {
      "cell_type": "markdown",
      "metadata": {
        "id": "view-in-github",
        "colab_type": "text"
      },
      "source": [
        "<a href=\"https://colab.research.google.com/github/paulodowd/3Pi_IRCommBoard/blob/main/Project_Idea_3_Line_Design.ipynb\" target=\"_parent\"><img src=\"https://colab.research.google.com/assets/colab-badge.svg\" alt=\"Open In Colab\"/></a>"
      ]
    },
    {
      "cell_type": "markdown",
      "source": [
        "# Line Design for Line Following"
      ],
      "metadata": {
        "id": "gMKegndjDDI8"
      }
    },
    {
      "cell_type": "markdown",
      "source": [
        "# Observation\n",
        "\n",
        "In previous work, the 3Pi+ robot was programmed to follow a line.  This line was specified as a solid black line on a white background with a fixed width of 19mm.  It is not clear if this is the optimum width or characteristics of a line for the task of line following.  For example, it is possible to both vary the width and tonal properties of the line on the surface.  These may have an interesting relationship to both the physical position of the line sensors beneath the robot, and the response of the sensors to degrees of black-to-white tone reflecting IR light.\n",
        "\n",
        "# Hypothesis\n",
        "\n",
        "The position of the line sensors beneath the 3Pi+ robot align as per the below image:\n",
        "\n",
        "<p align=\"center\">\n",
        "<br>\n",
        "<img width=\"50%\"  src=\"https://github.com/paulodowd/EMATM0054_53_23-24/blob/main/Images/3Pi_SensorsTape.jpeg?raw=true\">\n",
        "<br>\n",
        "</p>\n",
        "\n",
        "The principle method of line following was to use a weighted-measurement, which normlised each sensor activation in proportion to the total activation.  The utility of each sensor activation is therefore highly related to the surface below the robot.  It is possible to imagine a variety of alternative line designs:\n",
        "\n",
        "<p align=\"center\">\n",
        "<br>\n",
        "<img width=\"100%\"  src=\"https://github.com/paulodowd/EMATM0054_53_23-24/blob/main/Images/line_variations.jpg.png?raw=true\">\n",
        "<br>\n",
        "</p>\n",
        "\n",
        "We hypothesise that using either a narrower line, or lines of a tonal gradient, will provide more information to the robot.  This is because it should provide a greater difference between sensors.  Furthermore, we hypothesise that a tonal gradient may reduce the variation in readings because it provides a less abrupt change in the environment.  As such, we hypothesise that tonal gradients may improve the signal-to-noise ratio of the line sensor processing, and we could observe this in more stable line following behaviour.\n",
        "\n",
        "\n",
        "# Measurements & Results\n",
        "\n",
        "In these experiments, we anticipate using:\n",
        "- kinematics & odometry, to capture how the robots are travelling (e.g. x and y translation) and the quality of the motion (e.g., oscillation in theta).\n",
        "- wheel speed, PID feedback: we could use wheel speed and speed control to understand the quality of the robot motion, or overall line following behaviour.\n",
        "- line sensor activation: we can inspect the line sensor information both to represent the stability of line following, and with respect to the constancy or noise in the signal with respect to different line designs.\n",
        "\n",
        "# Method\n",
        "\n",
        "To make this investigation, we can begin by making a preliminary study of how a line sensor responds to lines of different designs.  We can place an immobile robot at intervals to control which measurement the line sensor produces with respect to the line position beneath the robot.  Using these early results of sensor response, we will make further and more specific hypotheses on which line design should perform best, how and why.  We will then evaluate a set of line designs by tasking a robot to follow a line of various designs.  We will select line paths such as a simple straight line, as well as lines with curves or corners of predetermined characteristics.  We will discuss how these characteristics will help to reveal understanding about the system.  We will fix and implementation of the system to achieve line following behaviour to act as the baseline measurement of performance, against which alternative line designs will be compared.  In light of these results, we may carefully consider how the information from the line sensors changed, and whether this had an impact on the evaluated performance - and if so, potentially try an improved control system to make more effective use of the alternative line designs.  It may be possible to extend this study to demonstrate how different line designs can be combined to provide better line following behaviour with respect to differnt line paths without changing the robot controller parameters (e.g., biasing the position of the robot prior to entering corners)."
      ],
      "metadata": {
        "id": "FG5MTGY8DI5b"
      }
    }
  ]
}